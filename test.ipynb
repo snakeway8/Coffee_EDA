{
 "cells": [
  {
   "cell_type": "code",
   "execution_count": 18,
   "id": "906972fe",
   "metadata": {},
   "outputs": [],
   "source": [
    "import pandas as pd\n",
    "import numpy as np\n",
    "import os"
   ]
  },
  {
   "cell_type": "markdown",
   "id": "db526a19",
   "metadata": {},
   "source": [
    "## Loading and preparing data for analysis"
   ]
  },
  {
   "cell_type": "code",
   "execution_count": 3,
   "id": "df339b42",
   "metadata": {},
   "outputs": [
    {
     "data": {
      "text/plain": [
       "['Canada.csv',\n",
       " 'Germany.csv',\n",
       " 'Great_Britain.csv',\n",
       " 'India.csv',\n",
       " 'Japan.csv',\n",
       " 'Mexico.csv',\n",
       " 'Russia.csv',\n",
       " 'South_Korea.csv',\n",
       " 'United_States.csv']"
      ]
     },
     "execution_count": 3,
     "metadata": {},
     "output_type": "execute_result"
    }
   ],
   "source": [
    "os.listdir(r'C:/Users/Admin/Desktop/ANALYSE/work_test/data_frame')"
   ]
  },
  {
   "cell_type": "code",
   "execution_count": 4,
   "id": "d5764cee",
   "metadata": {},
   "outputs": [],
   "source": [
    "path = r'C:/Users/Admin/Desktop/ANALYSE/work_test/data_frame'"
   ]
  },
  {
   "cell_type": "code",
   "execution_count": 5,
   "id": "c934c27e",
   "metadata": {},
   "outputs": [
    {
     "data": {
      "text/plain": [
       "<generator object _walk at 0x000002258C301430>"
      ]
     },
     "execution_count": 5,
     "metadata": {},
     "output_type": "execute_result"
    }
   ],
   "source": [
    "os.walk(path)"
   ]
  },
  {
   "cell_type": "code",
   "execution_count": 6,
   "id": "c9d9baff",
   "metadata": {},
   "outputs": [
    {
     "data": {
      "text/plain": [
       "[('C:/Users/Admin/Desktop/ANALYSE/work_test/data_frame',\n",
       "  [],\n",
       "  ['Canada.csv',\n",
       "   'Germany.csv',\n",
       "   'Great_Britain.csv',\n",
       "   'India.csv',\n",
       "   'Japan.csv',\n",
       "   'Mexico.csv',\n",
       "   'Russia.csv',\n",
       "   'South_Korea.csv',\n",
       "   'United_States.csv'])]"
      ]
     },
     "execution_count": 6,
     "metadata": {},
     "output_type": "execute_result"
    }
   ],
   "source": [
    "list(os.walk(path))"
   ]
  },
  {
   "cell_type": "code",
   "execution_count": 7,
   "id": "ff689d52",
   "metadata": {},
   "outputs": [],
   "source": [
    "path = r'C:/Users/Admin/Desktop/ANALYSE/work_test/data_frame'"
   ]
  },
  {
   "cell_type": "code",
   "execution_count": 8,
   "id": "ac357ae0",
   "metadata": {},
   "outputs": [
    {
     "name": "stdout",
     "output_type": "stream",
     "text": [
      "(40881, 17)\n",
      "(81721, 17)\n",
      "(120637, 17)\n",
      "(157989, 17)\n",
      "(178512, 17)\n",
      "(218963, 17)\n",
      "(259702, 17)\n",
      "(294269, 17)\n",
      "(335218, 17)\n"
     ]
    }
   ],
   "source": [
    "df = pd.DataFrame()\n",
    "\n",
    "for current_path, dirs, files in os.walk(path):\n",
    "    for file in files:\n",
    "        data_path = f'{current_path}/{file}'\n",
    "        temp_df = pd.read_csv(data_path,encoding='ISO-8859-1')\n",
    "        country = os.path.splitext(file)[0]\n",
    "        temp_df['country'] = country\n",
    "        df = pd.concat((df,temp_df), axis = 0)\n",
    "        print(df.shape)"
   ]
  },
  {
   "cell_type": "code",
   "execution_count": 9,
   "id": "b4ee7113",
   "metadata": {},
   "outputs": [
    {
     "data": {
      "text/plain": [
       "United_States    40949\n",
       "Canada           40881\n",
       "Germany          40840\n",
       "Russia           40739\n",
       "Mexico           40451\n",
       "Great_Britain    38916\n",
       "India            37352\n",
       "South_Korea      34567\n",
       "Japan            20523\n",
       "Name: country, dtype: int64"
      ]
     },
     "execution_count": 9,
     "metadata": {},
     "output_type": "execute_result"
    }
   ],
   "source": [
    " df['country'].value_counts()"
   ]
  },
  {
   "cell_type": "code",
   "execution_count": 14,
   "id": "40c7dd0f",
   "metadata": {},
   "outputs": [
    {
     "data": {
      "text/plain": [
       "video_id                      0\n",
       "trending_date                 0\n",
       "title                         0\n",
       "channel_title                 0\n",
       "category_id                   0\n",
       "publish_time                  0\n",
       "tags                          0\n",
       "views                         0\n",
       "likes                         0\n",
       "dislikes                      0\n",
       "comment_count                 0\n",
       "thumbnail_link                0\n",
       "comments_disabled             0\n",
       "ratings_disabled              0\n",
       "video_error_or_removed        0\n",
       "description               16566\n",
       "country                       0\n",
       "dtype: int64"
      ]
     },
     "execution_count": 14,
     "metadata": {},
     "output_type": "execute_result"
    }
   ],
   "source": [
    "df.isnull().sum()"
   ]
  },
  {
   "cell_type": "code",
   "execution_count": 15,
   "id": "72bb8cdf",
   "metadata": {},
   "outputs": [
    {
     "data": {
      "text/plain": [
       "video_id                  object\n",
       "trending_date             object\n",
       "title                     object\n",
       "channel_title             object\n",
       "category_id                int64\n",
       "publish_time              object\n",
       "tags                      object\n",
       "views                      int64\n",
       "likes                      int64\n",
       "dislikes                   int64\n",
       "comment_count              int64\n",
       "thumbnail_link            object\n",
       "comments_disabled           bool\n",
       "ratings_disabled            bool\n",
       "video_error_or_removed      bool\n",
       "description               object\n",
       "country                   object\n",
       "dtype: object"
      ]
     },
     "execution_count": 15,
     "metadata": {},
     "output_type": "execute_result"
    }
   ],
   "source": [
    "df.dtypes"
   ]
  },
  {
   "cell_type": "code",
   "execution_count": 19,
   "id": "80394aab",
   "metadata": {},
   "outputs": [],
   "source": [
    "df['category_id']=df['category_id'].replace ({2:'Autos & Vehicles',1:'Film & Animation',\n",
    "                  10:'Music',15:'Pets & Animals',17:'Sports',\n",
    "                 19:'Travel & Events',20:'Gaming',22:'People & Blogs',\n",
    "                 23:'Comedy',24:'Entertainment',25:'News & Politics',\n",
    "                 26:'Howto & Style',27:'Education',28:'Science & Technology',\n",
    "                  29:'Nonprofits & Activism',43:'Shows'})"
   ]
  },
  {
   "cell_type": "markdown",
   "id": "c299ead4",
   "metadata": {},
   "source": [
    "I merged 7 files into 1, added a column 'country', and changed the category names. I found that there is the least amount of data available for Japan. Unfortunately, I could not find the definition for categories 33 and 44. The only column with missing data is the description, which is not important for our analysis."
   ]
  },
  {
   "cell_type": "markdown",
   "id": "889d2682",
   "metadata": {},
   "source": [
    "## Task 1\n",
    "\n",
    "Relationship between country and popular categories."
   ]
  },
  {
   "cell_type": "code",
   "execution_count": 100,
   "id": "b7edd946",
   "metadata": {},
   "outputs": [],
   "source": [
    "countries = ['Germany', 'India']\n",
    "\n",
    "views = df[df['country'].isin(countries)].groupby(['category_id','country'])['views'].sum().to_frame('count').sort_values('count', ascending=False)"
   ]
  },
  {
   "cell_type": "code",
   "execution_count": 105,
   "id": "96184070",
   "metadata": {},
   "outputs": [
    {
     "data": {
      "text/plain": [
       "Text(0.5, 1.0, 'Top 5 Categories by Germany India and Japan')"
      ]
     },
     "execution_count": 105,
     "metadata": {},
     "output_type": "execute_result"
    },
    {
     "data": {
      "image/png": "[encoded data removed]",
      "text/plain": [
       "<Figure size 720x360 with 1 Axes>"
      ]
     },
     "metadata": {
      "needs_background": "light"
     },
     "output_type": "display_data"
    }
   ],
   "source": [
    "pivot_df = views.pivot_table(index='category_id', columns='country', values='count')\n",
    "\n",
    "my_colors = ['orange','chocolate']\n",
    "pivot_df.plot(kind='bar', figsize=(10,5), color=my_colors)\n",
    "\n",
    "plt.xlabel('Category ID')\n",
    "plt.ylabel('Count of Videos')\n",
    "plt.title('Top 5 Categories by Germany India and Japan')"
   ]
  },
  {
   "cell_type": "code",
   "execution_count": 110,
   "id": "e1cd8f71",
   "metadata": {},
   "outputs": [],
   "source": [
    "japan = df[df['country'] == 'Japan']"
   ]
  },
  {
   "cell_type": "code",
   "execution_count": 113,
   "id": "35cc7a99",
   "metadata": {},
   "outputs": [
    {
     "data": {
      "text/plain": [
       "Text(0, 0.5, 'Count')"
      ]
     },
     "execution_count": 113,
     "metadata": {},
     "output_type": "execute_result"
    },
    {
     "data": {
      "image/png": "[encoded data removed]",
      "text/plain": [
       "<Figure size 720x360 with 1 Axes>"
      ]
     },
     "metadata": {
      "needs_background": "light"
     },
     "output_type": "display_data"
    }
   ],
   "source": [
    "jp_videos = japan.groupby('category_id')['views'].sum().to_frame('count').sort_values('count',ascending = False)\n",
    "ax = jp_videos.plot(kind='bar',title='Most popular categories in  Japan',color='orange',figsize=(10,5))\n",
    "ax.set_xlabel('Category')\n",
    "ax.set_ylabel('Count')"
   ]
  },
  {
   "cell_type": "code",
   "execution_count": 112,
   "id": "2ba7944d",
   "metadata": {},
   "outputs": [
    {
     "data": {
      "text/html": [
       "<div>\n",
       "<style scoped>\n",
       "    .dataframe tbody tr th:only-of-type {\n",
       "        vertical-align: middle;\n",
       "    }\n",
       "\n",
       "    .dataframe tbody tr th {\n",
       "        vertical-align: top;\n",
       "    }\n",
       "\n",
       "    .dataframe thead th {\n",
       "        text-align: right;\n",
       "    }\n",
       "</style>\n",
       "<table border=\"1\" class=\"dataframe\">\n",
       "  <thead>\n",
       "    <tr style=\"text-align: right;\">\n",
       "      <th></th>\n",
       "      <th>views</th>\n",
       "    </tr>\n",
       "    <tr>\n",
       "      <th>channel_title</th>\n",
       "      <th></th>\n",
       "    </tr>\n",
       "  </thead>\n",
       "  <tbody>\n",
       "    <tr>\n",
       "      <th>SpaceX</th>\n",
       "      <td>84901008</td>\n",
       "    </tr>\n",
       "  </tbody>\n",
       "</table>\n",
       "</div>"
      ],
      "text/plain": [
       "                  views\n",
       "channel_title          \n",
       "SpaceX         84901008"
      ]
     },
     "execution_count": 112,
     "metadata": {},
     "output_type": "execute_result"
    }
   ],
   "source": [
    "japan[japan['channel_title']=='SpaceX'].groupby('channel_title')['views'].sum().to_frame('views').sort_values('views',ascending = False)"
   ]
  },
  {
   "cell_type": "markdown",
   "id": "89f277dd",
   "metadata": {},
   "source": [
    "Indians and Germans share a love for the following categories: 'FilmAnimation', 'Music', 'Sports', 'PeopleBlogs', 'Comedy', 'Entertainment', 'News & Politics', 'Howto & Style', 'Science & Technology'. But the Indians are ahead of the Germans in terms of viewing 'Entertainment', 'Music,' News & Politics', and 'Comedy' almost twice. The Japanese really don't like the Science & Technology category very much. But SpaceX has more than 84 million views."
   ]
  },
  {
   "cell_type": "markdown",
   "id": "5898d205",
   "metadata": {},
   "source": [
    "## Task 2 \n",
    "Ratio of views/likes/dislikes for different categories/countries. It seems that the Mexicans are insulting everything in a row, and the offended Englishmen are again dissatisfied with something. And it's easier for musicians to get likes than for politicians."
   ]
  },
  {
   "cell_type": "code",
   "execution_count": 50,
   "id": "66494c85",
   "metadata": {},
   "outputs": [
    {
     "data": {
      "text/html": [
       "<div>\n",
       "<style scoped>\n",
       "    .dataframe tbody tr th:only-of-type {\n",
       "        vertical-align: middle;\n",
       "    }\n",
       "\n",
       "    .dataframe tbody tr th {\n",
       "        vertical-align: top;\n",
       "    }\n",
       "\n",
       "    .dataframe thead th {\n",
       "        text-align: right;\n",
       "    }\n",
       "</style>\n",
       "<table border=\"1\" class=\"dataframe\">\n",
       "  <thead>\n",
       "    <tr style=\"text-align: right;\">\n",
       "      <th></th>\n",
       "      <th>likes</th>\n",
       "      <th>dislikes</th>\n",
       "    </tr>\n",
       "    <tr>\n",
       "      <th>category_id</th>\n",
       "      <th></th>\n",
       "      <th></th>\n",
       "    </tr>\n",
       "  </thead>\n",
       "  <tbody>\n",
       "    <tr>\n",
       "      <th>Music</th>\n",
       "      <td>227013300</td>\n",
       "      <td>7957335</td>\n",
       "    </tr>\n",
       "    <tr>\n",
       "      <th>Entertainment</th>\n",
       "      <td>186692595</td>\n",
       "      <td>11139060</td>\n",
       "    </tr>\n",
       "    <tr>\n",
       "      <th>Comedy</th>\n",
       "      <td>55273506</td>\n",
       "      <td>2400688</td>\n",
       "    </tr>\n",
       "    <tr>\n",
       "      <th>People &amp; Blogs</th>\n",
       "      <td>47859054</td>\n",
       "      <td>3219558</td>\n",
       "    </tr>\n",
       "    <tr>\n",
       "      <th>Sports</th>\n",
       "      <td>30866251</td>\n",
       "      <td>1279451</td>\n",
       "    </tr>\n",
       "    <tr>\n",
       "      <th>Howto &amp; Style</th>\n",
       "      <td>24651100</td>\n",
       "      <td>792362</td>\n",
       "    </tr>\n",
       "    <tr>\n",
       "      <th>Gaming</th>\n",
       "      <td>24002503</td>\n",
       "      <td>938239</td>\n",
       "    </tr>\n",
       "    <tr>\n",
       "      <th>Film &amp; Animation</th>\n",
       "      <td>17915248</td>\n",
       "      <td>516653</td>\n",
       "    </tr>\n",
       "    <tr>\n",
       "      <th>News &amp; Politics</th>\n",
       "      <td>11910414</td>\n",
       "      <td>957379</td>\n",
       "    </tr>\n",
       "    <tr>\n",
       "      <th>Science &amp; Technology</th>\n",
       "      <td>5114569</td>\n",
       "      <td>275862</td>\n",
       "    </tr>\n",
       "  </tbody>\n",
       "</table>\n",
       "</div>"
      ],
      "text/plain": [
       "                          likes  dislikes\n",
       "category_id                              \n",
       "Music                 227013300   7957335\n",
       "Entertainment         186692595  11139060\n",
       "Comedy                 55273506   2400688\n",
       "People & Blogs         47859054   3219558\n",
       "Sports                 30866251   1279451\n",
       "Howto & Style          24651100    792362\n",
       "Gaming                 24002503    938239\n",
       "Film & Animation       17915248    516653\n",
       "News & Politics        11910414    957379\n",
       "Science & Technology    5114569    275862"
      ]
     },
     "execution_count": 50,
     "metadata": {},
     "output_type": "execute_result"
    }
   ],
   "source": [
    "df[df['country']=='Mexico'].groupby('category_id')[['likes','dislikes']].sum().sort_values(['likes','dislikes'], ascending=[False,False]).head(5)"
   ]
  },
  {
   "cell_type": "code",
   "execution_count": 55,
   "id": "4311045d",
   "metadata": {},
   "outputs": [
    {
     "data": {
      "image/png": "[encoded data removed]",
      "text/plain": [
       "<Figure size 864x432 with 2 Axes>"
      ]
     },
     "metadata": {},
     "output_type": "display_data"
    }
   ],
   "source": [
    "\n",
    "data_likes = df[df['country']=='Mexico'].groupby('category_id')['likes'].sum().to_frame('sum_likes').sort_values('sum_likes', ascending=False).head(5)\n",
    "\n",
    "data_dislikes = df[df['country']=='Mexico'].groupby('category_id')['dislikes'].sum().to_frame('sum_dislikes').sort_values('sum_dislikes', ascending=False).head(5)\n",
    "fig, (ax1, ax2) = plt.subplots(1, 2, figsize=(12, 6))\n",
    "colors = ['sandybrown', 'peachpuff', 'orange', 'lightseagreen', 'sienna', 'chocolate']\n",
    "\n",
    "ax1.pie(data_likes['sum_likes'], labels=data_likes.index, autopct='%1.1f%%', colors=colors)\n",
    "ax1.set_title('Top 5 Categories by Likes Mexico')\n",
    "\n",
    "ax2.pie(data_dislikes['sum_dislikes'], labels=data_dislikes.index, autopct='%1.1f%%', colors=colors)\n",
    "ax2.set_title('Top 5 Categories by Dislikes Mexico')\n",
    "\n",
    "plt.show()\n"
   ]
  },
  {
   "cell_type": "markdown",
   "id": "de0cda53",
   "metadata": {},
   "source": [
    "In Mexico, people mostly like/dislike Entertainment and Music categories."
   ]
  },
  {
   "cell_type": "code",
   "execution_count": 59,
   "id": "49da3081",
   "metadata": {},
   "outputs": [],
   "source": [
    "data = df[df['country']=='Great_Britain'].groupby('category_id')['dislikes'].sum().to_frame('sum_dislikes').sort_values('sum_dislikes', ascending=False).head(5)"
   ]
  },
  {
   "cell_type": "code",
   "execution_count": 60,
   "id": "c7d1cfb7",
   "metadata": {},
   "outputs": [
    {
     "data": {
      "text/plain": [
       "Text(0.5, 1.0, 'Top 5 Categories by Dislikes Great Britain')"
      ]
     },
     "execution_count": 60,
     "metadata": {},
     "output_type": "execute_result"
    },
    {
     "data": {
      "image/png": "[encoded data removed]",
      "text/plain": [
       "<Figure size 504x504 with 1 Axes>"
      ]
     },
     "metadata": {},
     "output_type": "display_data"
    }
   ],
   "source": [
    "fig, ax = plt.subplots(figsize=(7, 7))\n",
    "colors = ['sandybrown', 'peachpuff', 'orange', 'lightseagreen', 'sienna', 'chocolate']\n",
    "plt.pie(data['sum_dislikes'], labels=data.index, autopct='%1.1f%%', colors=colors)\n",
    "plt.title('Top 5 Categories by Dislikes Great Britain')"
   ]
  },
  {
   "cell_type": "markdown",
   "id": "41254f10",
   "metadata": {},
   "source": [
    "And the English are very picky about musical performers."
   ]
  },
  {
   "cell_type": "markdown",
   "id": "3b431f82",
   "metadata": {},
   "source": [
    "Let's see what people liked in 2017. Was politics really not very interesting?"
   ]
  },
  {
   "cell_type": "code",
   "execution_count": 68,
   "id": "ef1b8580",
   "metadata": {},
   "outputs": [],
   "source": [
    "category = ['Music', 'News & Politics']\n",
    "likes = df[df['category_id'].isin(category)].groupby(['category_id'])['likes'].sum().to_frame()"
   ]
  },
  {
   "cell_type": "code",
   "execution_count": 69,
   "id": "c00819e3",
   "metadata": {},
   "outputs": [
    {
     "data": {
      "text/html": [
       "<div>\n",
       "<style scoped>\n",
       "    .dataframe tbody tr th:only-of-type {\n",
       "        vertical-align: middle;\n",
       "    }\n",
       "\n",
       "    .dataframe tbody tr th {\n",
       "        vertical-align: top;\n",
       "    }\n",
       "\n",
       "    .dataframe thead th {\n",
       "        text-align: right;\n",
       "    }\n",
       "</style>\n",
       "<table border=\"1\" class=\"dataframe\">\n",
       "  <thead>\n",
       "    <tr style=\"text-align: right;\">\n",
       "      <th></th>\n",
       "      <th>likes</th>\n",
       "    </tr>\n",
       "    <tr>\n",
       "      <th>category_id</th>\n",
       "      <th></th>\n",
       "    </tr>\n",
       "  </thead>\n",
       "  <tbody>\n",
       "    <tr>\n",
       "      <th>Music</th>\n",
       "      <td>6949884193</td>\n",
       "    </tr>\n",
       "    <tr>\n",
       "      <th>News &amp; Politics</th>\n",
       "      <td>154201936</td>\n",
       "    </tr>\n",
       "  </tbody>\n",
       "</table>\n",
       "</div>"
      ],
      "text/plain": [
       "                      likes\n",
       "category_id                \n",
       "Music            6949884193\n",
       "News & Politics   154201936"
      ]
     },
     "execution_count": 69,
     "metadata": {},
     "output_type": "execute_result"
    }
   ],
   "source": [
    "likes"
   ]
  },
  {
   "cell_type": "code",
   "execution_count": 70,
   "id": "565072e7",
   "metadata": {},
   "outputs": [
    {
     "data": {
      "image/png": "[encoded data removed]",
      "text/plain": [
       "<Figure size 504x504 with 1 Axes>"
      ]
     },
     "metadata": {},
     "output_type": "display_data"
    }
   ],
   "source": [
    "\n",
    "fig, ax = plt.subplots(figsize=(7, 7))\n",
    "\n",
    "category = ['Music', 'News & Politics']\n",
    "likes = df[df['category_id'].isin(category)].groupby(['category_id'])['likes'].sum().to_frame()\n",
    "colors = ['sandybrown', 'peachpuff']\n",
    "\n",
    "plt.pie(likes['likes'], labels=likes.index, autopct='%1.1f%%',colors=colors)\n",
    "\n",
    "plt.title('Likes by Category')\n",
    "\n",
    "plt.show()\n"
   ]
  },
  {
   "cell_type": "markdown",
   "id": "2316d312",
   "metadata": {},
   "source": [
    "So I can say that the News & Politics category was not a very popular topic in 2017."
   ]
  },
  {
   "cell_type": "code",
   "execution_count": 72,
   "id": "0a0abe30",
   "metadata": {},
   "outputs": [],
   "source": [
    "top_10_likes = df.groupby(['category_id'])['likes'].sum().to_frame('sum_likes').reset_index().sort_values('sum_likes', ascending = False).head(10)"
   ]
  },
  {
   "cell_type": "code",
   "execution_count": 78,
   "id": "fa4fc8b1",
   "metadata": {},
   "outputs": [
    {
     "data": {
      "text/html": [
       "<div>\n",
       "<style scoped>\n",
       "    .dataframe tbody tr th:only-of-type {\n",
       "        vertical-align: middle;\n",
       "    }\n",
       "\n",
       "    .dataframe tbody tr th {\n",
       "        vertical-align: top;\n",
       "    }\n",
       "\n",
       "    .dataframe thead th {\n",
       "        text-align: right;\n",
       "    }\n",
       "</style>\n",
       "<table border=\"1\" class=\"dataframe\">\n",
       "  <thead>\n",
       "    <tr style=\"text-align: right;\">\n",
       "      <th></th>\n",
       "      <th>category_id</th>\n",
       "      <th>sum_likes</th>\n",
       "    </tr>\n",
       "  </thead>\n",
       "  <tbody>\n",
       "    <tr>\n",
       "      <th>9</th>\n",
       "      <td>Music</td>\n",
       "      <td>6949884193</td>\n",
       "    </tr>\n",
       "    <tr>\n",
       "      <th>5</th>\n",
       "      <td>Entertainment</td>\n",
       "      <td>2739500031</td>\n",
       "    </tr>\n",
       "    <tr>\n",
       "      <th>3</th>\n",
       "      <td>Comedy</td>\n",
       "      <td>950587200</td>\n",
       "    </tr>\n",
       "    <tr>\n",
       "      <th>12</th>\n",
       "      <td>People &amp; Blogs</td>\n",
       "      <td>663623256</td>\n",
       "    </tr>\n",
       "    <tr>\n",
       "      <th>6</th>\n",
       "      <td>Film &amp; Animation</td>\n",
       "      <td>565254168</td>\n",
       "    </tr>\n",
       "    <tr>\n",
       "      <th>16</th>\n",
       "      <td>Sports</td>\n",
       "      <td>355666183</td>\n",
       "    </tr>\n",
       "    <tr>\n",
       "      <th>8</th>\n",
       "      <td>Howto &amp; Style</td>\n",
       "      <td>331818662</td>\n",
       "    </tr>\n",
       "    <tr>\n",
       "      <th>7</th>\n",
       "      <td>Gaming</td>\n",
       "      <td>275834959</td>\n",
       "    </tr>\n",
       "    <tr>\n",
       "      <th>14</th>\n",
       "      <td>Science &amp; Technology</td>\n",
       "      <td>234057296</td>\n",
       "    </tr>\n",
       "    <tr>\n",
       "      <th>10</th>\n",
       "      <td>News &amp; Politics</td>\n",
       "      <td>154201936</td>\n",
       "    </tr>\n",
       "  </tbody>\n",
       "</table>\n",
       "</div>"
      ],
      "text/plain": [
       "             category_id   sum_likes\n",
       "9                  Music  6949884193\n",
       "5          Entertainment  2739500031\n",
       "3                 Comedy   950587200\n",
       "12        People & Blogs   663623256\n",
       "6       Film & Animation   565254168\n",
       "16                Sports   355666183\n",
       "8          Howto & Style   331818662\n",
       "7                 Gaming   275834959\n",
       "14  Science & Technology   234057296\n",
       "10       News & Politics   154201936"
      ]
     },
     "execution_count": 78,
     "metadata": {},
     "output_type": "execute_result"
    }
   ],
   "source": [
    "top_10_likes"
   ]
  },
  {
   "cell_type": "code",
   "execution_count": 74,
   "id": "9f99bc0d",
   "metadata": {},
   "outputs": [
    {
     "data": {
      "text/plain": [
       "[Text(0.5, 1.0, 'Top 10  categories by the number of likes '),\n",
       " Text(0.5, 0, 'Total likes'),\n",
       " Text(0, 0.5, 'Category')]"
      ]
     },
     "execution_count": 74,
     "metadata": {},
     "output_type": "execute_result"
    },
    {
     "data": {
      "image/png": "[encoded data removed]",
      "text/plain": [
       "<Figure size 720x432 with 1 Axes>"
      ]
     },
     "metadata": {
      "needs_background": "light"
     },
     "output_type": "display_data"
    }
   ],
   "source": [
    "fig, ax = plt.subplots(figsize=(10, 6))\n",
    "colors = ['sandybrown','peachpuff','orange','lightseagreen', 'sienna', 'chocolate', 'darkorange', 'mediumaquamarine']\n",
    "top_10.plot(kind='barh', y=\"sum_likes\", x=\"category_id\", ax=ax,color=colors)\n",
    "\n",
    "ax.set(title='Top 10  categories by the number of likes ', xlabel='Total likes', ylabel='Category')"
   ]
  },
  {
   "cell_type": "markdown",
   "id": "0dbb0d57",
   "metadata": {},
   "source": [
    "It was also interesting to see the top 10 categories by the number of likes. I was surprised that the Education category did not make the list. And Science and Technology is in the last place."
   ]
  },
  {
   "cell_type": "markdown",
   "id": "f081de66",
   "metadata": {},
   "source": [
    "## Task 3\n",
    "Channels that are popular in most countries. Ed Sheeran hi."
   ]
  },
  {
   "cell_type": "code",
   "execution_count": 1,
   "id": "faacd865",
   "metadata": {},
   "outputs": [
    {
     "ename": "NameError",
     "evalue": "name 'df' is not defined",
     "output_type": "error",
     "traceback": [
      "\u001b[1;31m---------------------------------------------------------------------------\u001b[0m",
      "\u001b[1;31mNameError\u001b[0m                                 Traceback (most recent call last)",
      "Input \u001b[1;32mIn [1]\u001b[0m, in \u001b[0;36m<cell line: 1>\u001b[1;34m()\u001b[0m\n\u001b[1;32m----> 1\u001b[0m Ed_Sheeran \u001b[38;5;241m=\u001b[39m \u001b[43mdf\u001b[49m[df[\u001b[38;5;124m'\u001b[39m\u001b[38;5;124mchannel_title\u001b[39m\u001b[38;5;124m'\u001b[39m]\u001b[38;5;241m==\u001b[39m \u001b[38;5;124m'\u001b[39m\u001b[38;5;124mEd Sheeran\u001b[39m\u001b[38;5;124m'\u001b[39m]\u001b[38;5;241m.\u001b[39mgroupby(\u001b[38;5;124m'\u001b[39m\u001b[38;5;124mcountry\u001b[39m\u001b[38;5;124m'\u001b[39m)[\u001b[38;5;124m'\u001b[39m\u001b[38;5;124mviews\u001b[39m\u001b[38;5;124m'\u001b[39m]\u001b[38;5;241m.\u001b[39msum()\u001b[38;5;241m.\u001b[39mhead(\u001b[38;5;241m5\u001b[39m)\n",
      "\u001b[1;31mNameError\u001b[0m: name 'df' is not defined"
     ]
    }
   ],
   "source": [
    "Ed_Sheeran = df[df['channel_title']== 'Ed Sheeran'].groupby('country')['views'].sum().head(5)"
   ]
  },
  {
   "cell_type": "code",
   "execution_count": 85,
   "id": "6c904f53",
   "metadata": {},
   "outputs": [
    {
     "data": {
      "text/plain": [
       "country\n",
       "Canada            385566686\n",
       "Germany           205159549\n",
       "Great_Britain    3589056783\n",
       "India             257307762\n",
       "Japan              12721269\n",
       "Name: views, dtype: int64"
      ]
     },
     "execution_count": 85,
     "metadata": {},
     "output_type": "execute_result"
    }
   ],
   "source": [
    "Ed_Sheeran"
   ]
  },
  {
   "cell_type": "code",
   "execution_count": 86,
   "id": "5a14bb7b",
   "metadata": {},
   "outputs": [
    {
     "data": {
      "image/png": "[encoded data removed]",
      "text/plain": [
       "<Figure size 504x504 with 1 Axes>"
      ]
     },
     "metadata": {},
     "output_type": "display_data"
    }
   ],
   "source": [
    "labels = Ed_Sheeran.index.tolist()\n",
    "values = Ed_Sheeran.values.tolist()\n",
    "\n",
    "fig, ax = plt.subplots(figsize=(7, 7))\n",
    "my_colors = ['sandybrown','peachpuff','orange','lightseagreen', 'sienna', 'chocolate', 'darkorange', 'mediumaquamarine']\n",
    "ax.pie(values, labels=labels, autopct='%1.1f%%',colors=my_colors)\n",
    "ax.set_title('Total Views for Ed Sheeran by Country')\n",
    "\n",
    "plt.show()"
   ]
  },
  {
   "cell_type": "markdown",
   "id": "8dec42d4",
   "metadata": {},
   "source": [
    "Ed Sheeran is loved the most in Great Britain. Other countries are practically indifferent to his work. In Canada about 9% views and in Germany and India about 5-6%."
   ]
  },
  {
   "cell_type": "code",
   "execution_count": 93,
   "id": "401ff986",
   "metadata": {},
   "outputs": [],
   "source": [
    "top_10_channel = df.groupby(['channel_title'])['views'].sum().to_frame('sum_views').sort_values('sum_views', ascending = False).head(10).reset_index()"
   ]
  },
  {
   "cell_type": "code",
   "execution_count": 96,
   "id": "128dd11e",
   "metadata": {},
   "outputs": [
    {
     "data": {
      "text/html": [
       "<div>\n",
       "<style scoped>\n",
       "    .dataframe tbody tr th:only-of-type {\n",
       "        vertical-align: middle;\n",
       "    }\n",
       "\n",
       "    .dataframe tbody tr th {\n",
       "        vertical-align: top;\n",
       "    }\n",
       "\n",
       "    .dataframe thead th {\n",
       "        text-align: right;\n",
       "    }\n",
       "</style>\n",
       "<table border=\"1\" class=\"dataframe\">\n",
       "  <thead>\n",
       "    <tr style=\"text-align: right;\">\n",
       "      <th></th>\n",
       "      <th>channel_title</th>\n",
       "      <th>sum_views</th>\n",
       "    </tr>\n",
       "  </thead>\n",
       "  <tbody>\n",
       "    <tr>\n",
       "      <th>0</th>\n",
       "      <td>ChildishGambinoVEVO</td>\n",
       "      <td>10863001444</td>\n",
       "    </tr>\n",
       "    <tr>\n",
       "      <th>1</th>\n",
       "      <td>Marvel Entertainment</td>\n",
       "      <td>10207246975</td>\n",
       "    </tr>\n",
       "    <tr>\n",
       "      <th>2</th>\n",
       "      <td>NickyJamTV</td>\n",
       "      <td>9363824936</td>\n",
       "    </tr>\n",
       "    <tr>\n",
       "      <th>3</th>\n",
       "      <td>Ozuna</td>\n",
       "      <td>8606723117</td>\n",
       "    </tr>\n",
       "    <tr>\n",
       "      <th>4</th>\n",
       "      <td>ibighit</td>\n",
       "      <td>7913804089</td>\n",
       "    </tr>\n",
       "    <tr>\n",
       "      <th>5</th>\n",
       "      <td>DrakeVEVO</td>\n",
       "      <td>7557827306</td>\n",
       "    </tr>\n",
       "    <tr>\n",
       "      <th>6</th>\n",
       "      <td>Bad Bunny</td>\n",
       "      <td>7120372765</td>\n",
       "    </tr>\n",
       "    <tr>\n",
       "      <th>7</th>\n",
       "      <td>ArianaGrandeVevo</td>\n",
       "      <td>6126944204</td>\n",
       "    </tr>\n",
       "    <tr>\n",
       "      <th>8</th>\n",
       "      <td>jypentertainment</td>\n",
       "      <td>5751095939</td>\n",
       "    </tr>\n",
       "    <tr>\n",
       "      <th>9</th>\n",
       "      <td>Ed Sheeran</td>\n",
       "      <td>5628102380</td>\n",
       "    </tr>\n",
       "  </tbody>\n",
       "</table>\n",
       "</div>"
      ],
      "text/plain": [
       "          channel_title    sum_views\n",
       "0   ChildishGambinoVEVO  10863001444\n",
       "1  Marvel Entertainment  10207246975\n",
       "2            NickyJamTV   9363824936\n",
       "3                 Ozuna   8606723117\n",
       "4               ibighit   7913804089\n",
       "5             DrakeVEVO   7557827306\n",
       "6             Bad Bunny   7120372765\n",
       "7      ArianaGrandeVevo   6126944204\n",
       "8      jypentertainment   5751095939\n",
       "9            Ed Sheeran   5628102380"
      ]
     },
     "execution_count": 96,
     "metadata": {},
     "output_type": "execute_result"
    }
   ],
   "source": [
    "top_10_channel "
   ]
  },
  {
   "cell_type": "markdown",
   "id": "abe472f1",
   "metadata": {},
   "source": [
    "Let's look at the most popular channels in the countries of our analysis."
   ]
  },
  {
   "cell_type": "code",
   "execution_count": 98,
   "id": "d5e58330",
   "metadata": {},
   "outputs": [
    {
     "data": {
      "text/plain": [
       "[Text(0.5, 1.0, 'Top 10 most popular channels  '),\n",
       " Text(0.5, 0, 'Total Views'),\n",
       " Text(0, 0.5, 'Channel')]"
      ]
     },
     "execution_count": 98,
     "metadata": {},
     "output_type": "execute_result"
    },
    {
     "data": {
      "image/png": "[encoded data removed]",
      "text/plain": [
       "<Figure size 720x432 with 1 Axes>"
      ]
     },
     "metadata": {
      "needs_background": "light"
     },
     "output_type": "display_data"
    }
   ],
   "source": [
    "fig, ax = plt.subplots(figsize=(10, 6))\n",
    "colors = ['sandybrown','peachpuff','orange','lightseagreen', 'sienna', 'chocolate', 'darkorange', 'mediumaquamarine']\n",
    "top_10_channel.plot(kind='barh', y=\"sum_views\", x=\"channel_title\", ax=ax,color=colors)\n",
    "\n",
    "ax.set(title='Top 10 most popular channels  ', xlabel='Total Views', ylabel='Channel')"
   ]
  },
  {
   "cell_type": "markdown",
   "id": "cc1e918d",
   "metadata": {},
   "source": [
    "ChildishGambinoVEVO was actually a very popular channel with viewers. Ed_Sheeran's TOP 10 in the last round."
   ]
  },
  {
   "cell_type": "code",
   "execution_count": null,
   "id": "f7fc9b86",
   "metadata": {},
   "outputs": [],
   "source": []
  }
 ],
 "metadata": {
  "kernelspec": {
   "display_name": "Python 3 (ipykernel)",
   "language": "python",
   "name": "python3"
  },
  "language_info": {
   "codemirror_mode": {
    "name": "ipython",
    "version": 3
   },
   "file_extension": ".py",
   "mimetype": "text/x-python",
   "name": "python",
   "nbconvert_exporter": "python",
   "pygments_lexer": "ipython3",
   "version": "3.9.12"
  }
 },
 "nbformat": 4,
 "nbformat_minor": 5
}
